{
 "cells": [
  {
   "cell_type": "markdown",
   "id": "f1ce0d3e",
   "metadata": {},
   "source": [
    "# IBM Recommendations — **Clean and complete notebook**\n",
    "This notebook implements **all** parts of the rubric using **only** `user-item-interactions.csv` and functions centralized in `src/`.\n",
    "\n",
    "**Sections**  \n",
    "1. EDA (variables with the expected names)  \n",
    "2. Rank-based (popularity)  \n",
    "3. User–user Collaborative Filtering  \n",
    "4. Content-based (TF-IDF on titles)  \n",
    "5. Matrix Factorization (SVD) + discussion"
   ]
  },
  {
   "cell_type": "code",
   "execution_count": 1,
   "id": "11c7cbbb",
   "metadata": {},
   "outputs": [],
   "source": [
    "\n",
    "# Imports y path a src/\n",
    "import os, sys, pandas as pd, numpy as np\n",
    "sys.path.append(os.path.abspath(os.path.join('..','src')))\n",
    "\n",
    "from data import email_mapper\n",
    "from rank import get_top_article_ids, get_top_articles, get_ranked_article_unique_counts\n",
    "from utils import get_article_names\n",
    "from collaborative import (\n",
    "    create_user_item_matrix, get_top_sorted_users, find_similar_users,\n",
    "    user_user_recs, user_user_recs_part2, get_user_articles\n",
    ")\n",
    "from content import (build_tfidf_from_df, select_optimal_k, make_content_recs)\n",
    "from matrix_factorization import (fit_svd, get_svd_similar_article_ids)\n"
   ]
  },
  {
   "cell_type": "markdown",
   "id": "7cec78bd",
   "metadata": {},
   "source": [
    "## Data Loading"
   ]
  },
  {
   "cell_type": "code",
   "execution_count": 2,
   "id": "f8f8651f",
   "metadata": {},
   "outputs": [
    {
     "data": {
      "text/html": [
       "<div>\n",
       "<style scoped>\n",
       "    .dataframe tbody tr th:only-of-type {\n",
       "        vertical-align: middle;\n",
       "    }\n",
       "\n",
       "    .dataframe tbody tr th {\n",
       "        vertical-align: top;\n",
       "    }\n",
       "\n",
       "    .dataframe thead th {\n",
       "        text-align: right;\n",
       "    }\n",
       "</style>\n",
       "<table border=\"1\" class=\"dataframe\">\n",
       "  <thead>\n",
       "    <tr style=\"text-align: right;\">\n",
       "      <th></th>\n",
       "      <th>Unnamed: 0</th>\n",
       "      <th>article_id</th>\n",
       "      <th>title</th>\n",
       "      <th>user_id</th>\n",
       "    </tr>\n",
       "  </thead>\n",
       "  <tbody>\n",
       "    <tr>\n",
       "      <th>0</th>\n",
       "      <td>0</td>\n",
       "      <td>1430</td>\n",
       "      <td>using pixiedust for fast, flexible, and easier...</td>\n",
       "      <td>1</td>\n",
       "    </tr>\n",
       "    <tr>\n",
       "      <th>1</th>\n",
       "      <td>1</td>\n",
       "      <td>1314</td>\n",
       "      <td>healthcare python streaming application demo</td>\n",
       "      <td>2</td>\n",
       "    </tr>\n",
       "    <tr>\n",
       "      <th>2</th>\n",
       "      <td>2</td>\n",
       "      <td>1429</td>\n",
       "      <td>use deep learning for image classification</td>\n",
       "      <td>3</td>\n",
       "    </tr>\n",
       "  </tbody>\n",
       "</table>\n",
       "</div>"
      ],
      "text/plain": [
       "   Unnamed: 0  article_id                                              title  \\\n",
       "0           0        1430  using pixiedust for fast, flexible, and easier...   \n",
       "1           1        1314       healthcare python streaming application demo   \n",
       "2           2        1429         use deep learning for image classification   \n",
       "\n",
       "   user_id  \n",
       "0        1  \n",
       "1        2  \n",
       "2        3  "
      ]
     },
     "execution_count": 2,
     "metadata": {},
     "output_type": "execute_result"
    }
   ],
   "source": [
    "\n",
    "# Carga: ajusta la ruta si la tuya difiere\n",
    "path = '../data/user-item-interactions.csv'\n",
    "df = pd.read_csv(path)\n",
    "\n",
    "# Normalizaciones típicas del notebook guía\n",
    "if 'user_id' not in df.columns and 'email' in df.columns:\n",
    "    df['user_id'] = email_mapper(df)\n",
    "    del df['email']\n",
    "\n",
    "# Tipos\n",
    "df['article_id'] = df['article_id'].astype(int)\n",
    "\n",
    "# Mostrar un vistazo\n",
    "df.head(3)\n"
   ]
  },
  {
   "cell_type": "markdown",
   "id": "339df8ff",
   "metadata": {},
   "source": [
    "## Section I — EDA"
   ]
  },
  {
   "cell_type": "code",
   "execution_count": null,
   "id": "8391ee7f",
   "metadata": {},
   "outputs": [
    {
     "name": "stdout",
     "output_type": "stream",
     "text": [
      "Resumen EDA: {'median_val': 3.0, 'max_views_by_user': 135, 'max_views': 467, 'most_viewed_article_id': 1330, 'unique_articles': 714, 'unique_users': 5149, 'total_articles': 714}\n"
     ]
    },
    {
     "data": {
      "text/plain": [
       "article_id\n",
       "1330    467\n",
       "1429    397\n",
       "1364    388\n",
       "1314    345\n",
       "1398    329\n",
       "Name: user_id, dtype: int64"
      ]
     },
     "execution_count": 3,
     "metadata": {},
     "output_type": "execute_result"
    }
   ],
   "source": [
    "\n",
    "user_article_interactions = (\n",
    "    df.groupby('article_id')['user_id'].nunique().sort_values(ascending=False)\n",
    ")\n",
    "\n",
    "median_val = float(df.groupby('user_id')['article_id'].nunique().median())\n",
    "max_views_by_user = int(df.groupby('user_id')['article_id'].nunique().max())\n",
    "max_views = int(user_article_interactions.max())\n",
    "most_viewed_article_id = int(user_article_interactions.idxmax())\n",
    "unique_articles = int(df['article_id'].nunique())\n",
    "unique_users = int(df['user_id'].nunique())\n",
    "total_articles = int(df['article_id'].nunique())  # con un solo df\n",
    "\n",
    "sol_1_dict = {\n",
    "    'median_val': median_val,\n",
    "    'max_views_by_user': max_views_by_user,\n",
    "    'max_views': max_views,\n",
    "    'most_viewed_article_id': most_viewed_article_id,\n",
    "    'unique_articles': unique_articles,\n",
    "    'unique_users': unique_users,\n",
    "    'total_articles': total_articles\n",
    "}\n",
    "\n",
    "print('Resumen EDA:', sol_1_dict)\n",
    "user_article_interactions.head(5)\n"
   ]
  },
  {
   "cell_type": "markdown",
   "id": "9a30e7bf",
   "metadata": {},
   "source": [
    "## Section II — Rank Based"
   ]
  },
  {
   "cell_type": "code",
   "execution_count": 4,
   "id": "689f238a",
   "metadata": {},
   "outputs": [
    {
     "name": "stdout",
     "output_type": "stream",
     "text": [
      "Top 10 IDs: [1330, 1429, 1364, 1314, 1398, 1431, 1271, 1427, 43, 1160]\n",
      "Top 10 títulos (si están en df): ['insights from new york car accident reports', 'use deep learning for image classification', 'predicting churn with the spss random tree algorithm', 'healthcare python streaming application demo', 'total population by country']\n"
     ]
    }
   ],
   "source": [
    "\n",
    "top10_ids = get_top_article_ids(10, df)\n",
    "top10_titles = get_top_articles(10, df)\n",
    "\n",
    "print('Top 10 IDs:', top10_ids)\n",
    "print('Top 10 títulos (si están en df):', top10_titles[:5])\n"
   ]
  },
  {
   "cell_type": "markdown",
   "id": "74f7bc5c",
   "metadata": {},
   "source": [
    "## Section III — Collaborative Filtering (user–user)"
   ]
  },
  {
   "cell_type": "code",
   "execution_count": 5,
   "id": "c6f350c0",
   "metadata": {},
   "outputs": [
    {
     "data": {
      "text/plain": [
       "(   neighbor_id  similarity  num_interactions\n",
       " 0           23    0.992593               135\n",
       " 1           98    0.436935                97\n",
       " 2         3764    0.436935                97\n",
       " 3         3697    0.404512               100\n",
       " 4           49    0.402504               101,\n",
       " [20, 40, 51, 57, 101],\n",
       " ['working interactively with rstudio and notebooks in dsx',\n",
       "  'ensemble learning to improve machine learning results',\n",
       "  'modern machine learning algorithms',\n",
       "  'transfer learning for flight delay prediction via variational autoencoders',\n",
       "  'how to choose a project to practice data science'],\n",
       " [887, 40, 173, 599, 681])"
      ]
     },
     "execution_count": 5,
     "metadata": {},
     "output_type": "execute_result"
    }
   ],
   "source": [
    "\n",
    "user_item = create_user_item_matrix(df)\n",
    "\n",
    "# Tomamos un usuario con mayor número de artículos vistos para evitar edge cases\n",
    "inter_per_user = df.groupby('user_id')['article_id'].nunique().sort_values(ascending=False)\n",
    "some_user = int(inter_per_user.index[0])\n",
    "\n",
    "neighbors = get_top_sorted_users(some_user, df, user_item).head(5)\n",
    "recs_ids, recs_titles = user_user_recs(some_user, df, user_item, m=10)\n",
    "recs_ids_part2 = user_user_recs_part2(some_user, df, user_item, m=10)\n",
    "\n",
    "neighbors, recs_ids[:5], recs_titles[:5], recs_ids_part2[:5]\n"
   ]
  },
  {
   "cell_type": "markdown",
   "id": "67755620",
   "metadata": {},
   "source": [
    "## Section IV — Content Based (TF‑IDF over titles)"
   ]
  },
  {
   "cell_type": "code",
   "execution_count": 7,
   "id": "890b09a5",
   "metadata": {},
   "outputs": [],
   "source": [
    "\n",
    "# Si sólo tenemos 'title', usamos eso; mejora notable si luego incorporas texto real.\n",
    "df_articles = df[['article_id', 'title']].drop_duplicates('article_id').reset_index(drop=True)\n",
    "vect, X = build_tfidf_from_df(df_articles, text_cols=['title'])\n",
    "example_article_id = int(df_articles['article_id'].iloc[0])\n",
    "content_recs = make_content_recs(example_article_id, df_articles, m=10, vect=vect, X=X)\n"
   ]
  },
  {
   "cell_type": "markdown",
   "id": "ba0d281f",
   "metadata": {},
   "source": [
    "## Section V — Matrix Factorization (SVD)"
   ]
  },
  {
   "cell_type": "code",
   "execution_count": 8,
   "id": "a4079433",
   "metadata": {},
   "outputs": [
    {
     "data": {
      "text/plain": [
       "[[1203, 0.4470512060640159],\n",
       " [486, 0.3968083380241231],\n",
       " [1173, 0.3962177219801733],\n",
       " [695, 0.3489042358720732],\n",
       " [861, 0.33150767088183763]]"
      ]
     },
     "execution_count": 8,
     "metadata": {},
     "output_type": "execute_result"
    }
   ],
   "source": [
    "\n",
    "U, s, Vt = fit_svd(user_item, k=min(50, max(2, min(user_item.shape)-1)))\n",
    "svd_similar_ids = get_svd_similar_article_ids(example_article_id, user_item, Vt, include_similarity=True, m=10)\n",
    "svd_similar_ids[:5]\n"
   ]
  },
  {
   "cell_type": "markdown",
   "id": "bba39ada",
   "metadata": {},
   "source": [
    "## Sanity checks"
   ]
  },
  {
   "cell_type": "code",
   "execution_count": 9,
   "id": "0bf221b6",
   "metadata": {},
   "outputs": [
    {
     "name": "stdout",
     "output_type": "stream",
     "text": [
      "Sanity checks OK ✅\n"
     ]
    }
   ],
   "source": [
    "\n",
    "# EDA types\n",
    "assert isinstance(median_val, float)\n",
    "assert isinstance(max_views_by_user, int)\n",
    "assert isinstance(max_views, int)\n",
    "assert isinstance(most_viewed_article_id, int)\n",
    "assert isinstance(unique_articles, int)\n",
    "assert isinstance(unique_users, int)\n",
    "assert isinstance(total_articles, int)\n",
    "\n",
    "# Rank-based\n",
    "assert isinstance(top10_ids, list) and len(top10_ids) > 0\n",
    "\n",
    "# CF matrices y recomendaciones\n",
    "assert user_item.shape[0] > 0 and user_item.shape[1] > 0\n",
    "assert isinstance(recs_ids, list)\n",
    "assert isinstance(recs_ids_part2, list)\n",
    "\n",
    "print('Sanity checks OK ✅')\n"
   ]
  },
  {
   "cell_type": "markdown",
   "id": "951d17cf",
   "metadata": {},
   "source": [
    "\n",
    "### Discussion and validation\n",
    "- **Popularity** works for user *cold-start*.  \n",
    "- **CF** personalizes based on neighbors; sensitive to sparsity.  \n",
    "- **Content** is useful for *item cold-start*.  \n",
    "- **SVD** captures latent factors; choose `k` via explained variance and/or validation.\n",
    "\n",
    "**Suggested offline validation:** temporal holdout, metrics such as `Recall@K` and `MAP@K`.  \n",
    "**Online validation:** A/B test with recommendation CTR and dwell time."
   ]
  },
  {
   "cell_type": "markdown",
   "id": "ccecd8bc",
   "metadata": {},
   "source": []
  }
 ],
 "metadata": {
  "kernelspec": {
   "display_name": ".venv",
   "language": "python",
   "name": "python3"
  },
  "language_info": {
   "codemirror_mode": {
    "name": "ipython",
    "version": 3
   },
   "file_extension": ".py",
   "mimetype": "text/x-python",
   "name": "python",
   "nbconvert_exporter": "python",
   "pygments_lexer": "ipython3",
   "version": "3.11.5"
  }
 },
 "nbformat": 4,
 "nbformat_minor": 5
}
