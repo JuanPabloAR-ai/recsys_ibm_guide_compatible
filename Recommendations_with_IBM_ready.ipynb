{
 "cells": [
  {
   "cell_type": "markdown",
   "id": "b6e0f5fe",
   "metadata": {},
   "source": [
    "# Recommendations_with_IBM — Ready-to-run notebook"
   ]
  },
  {
   "cell_type": "code",
   "execution_count": 1,
   "id": "470281ac",
   "metadata": {},
   "outputs": [
    {
     "name": "stdout",
     "output_type": "stream",
     "text": [
      "CWD: c:\\Users\\aceve\\OneDrive\\Documents\\local_development\\recsys_ibm_guide_compatible\\recsys_ibm\n",
      "project_tests imported from: c:\\Users\\aceve\\OneDrive\\Documents\\local_development\\recsys_ibm_guide_compatible\\recsys_ibm\\project_tests.py\n"
     ]
    }
   ],
   "source": [
    "# -- Set working dir to project root and import project_tests robustly --\n",
    "from pathlib import Path\n",
    "import os, sys, importlib.util\n",
    "\n",
    "here = Path.cwd()\n",
    "root = None\n",
    "for cand in [here, *here.parents]:\n",
    "    if (cand / \"project_tests.py\").exists() and (cand / \"data\" / \"user-item-interactions.csv\").exists():\n",
    "        root = cand\n",
    "        break\n",
    "if root is None:\n",
    "    raise FileNotFoundError(\"Couldn't find project root with project_tests.py and data/user-item-interactions.csv\")\n",
    "\n",
    "os.chdir(root)\n",
    "sys.path.insert(0, str(root))\n",
    "\n",
    "spec = importlib.util.spec_from_file_location(\"project_tests\", str(root / \"project_tests.py\"))\n",
    "t = importlib.util.module_from_spec(spec)\n",
    "spec.loader.exec_module(t)\n",
    "\n",
    "print(\"CWD:\", Path.cwd())\n",
    "print(\"project_tests imported from:\", (root / \"project_tests.py\"))\n"
   ]
  },
  {
   "cell_type": "code",
   "execution_count": 2,
   "id": "143bd7e6",
   "metadata": {},
   "outputs": [
    {
     "data": {
      "text/html": [
       "<div>\n",
       "<style scoped>\n",
       "    .dataframe tbody tr th:only-of-type {\n",
       "        vertical-align: middle;\n",
       "    }\n",
       "\n",
       "    .dataframe tbody tr th {\n",
       "        vertical-align: top;\n",
       "    }\n",
       "\n",
       "    .dataframe thead th {\n",
       "        text-align: right;\n",
       "    }\n",
       "</style>\n",
       "<table border=\"1\" class=\"dataframe\">\n",
       "  <thead>\n",
       "    <tr style=\"text-align: right;\">\n",
       "      <th></th>\n",
       "      <th>Unnamed: 0</th>\n",
       "      <th>article_id</th>\n",
       "      <th>title</th>\n",
       "      <th>email</th>\n",
       "    </tr>\n",
       "  </thead>\n",
       "  <tbody>\n",
       "    <tr>\n",
       "      <th>0</th>\n",
       "      <td>0</td>\n",
       "      <td>1430</td>\n",
       "      <td>using pixiedust for fast, flexible, and easier...</td>\n",
       "      <td>ef5f11f77ba020cd36e1105a00ab868bbdbf7fe7</td>\n",
       "    </tr>\n",
       "    <tr>\n",
       "      <th>1</th>\n",
       "      <td>1</td>\n",
       "      <td>1314</td>\n",
       "      <td>healthcare python streaming application demo</td>\n",
       "      <td>083cbdfa93c8444beaa4c5f5e0f5f9198e4f9e0b</td>\n",
       "    </tr>\n",
       "    <tr>\n",
       "      <th>2</th>\n",
       "      <td>2</td>\n",
       "      <td>1429</td>\n",
       "      <td>use deep learning for image classification</td>\n",
       "      <td>b96a4f2e92d8572034b1e9b28f9ac673765cd074</td>\n",
       "    </tr>\n",
       "    <tr>\n",
       "      <th>3</th>\n",
       "      <td>3</td>\n",
       "      <td>1338</td>\n",
       "      <td>ml optimization using cognitive assistant</td>\n",
       "      <td>06485706b34a5c9bf2a0ecdac41daf7e7654ceb7</td>\n",
       "    </tr>\n",
       "    <tr>\n",
       "      <th>4</th>\n",
       "      <td>4</td>\n",
       "      <td>1276</td>\n",
       "      <td>deploy your python model as a restful api</td>\n",
       "      <td>f01220c46fc92c6e6b161b1849de11faacd7ccb2</td>\n",
       "    </tr>\n",
       "  </tbody>\n",
       "</table>\n",
       "</div>"
      ],
      "text/plain": [
       "   Unnamed: 0  article_id                                              title  \\\n",
       "0           0        1430  using pixiedust for fast, flexible, and easier...   \n",
       "1           1        1314       healthcare python streaming application demo   \n",
       "2           2        1429         use deep learning for image classification   \n",
       "3           3        1338          ml optimization using cognitive assistant   \n",
       "4           4        1276          deploy your python model as a restful api   \n",
       "\n",
       "                                      email  \n",
       "0  ef5f11f77ba020cd36e1105a00ab868bbdbf7fe7  \n",
       "1  083cbdfa93c8444beaa4c5f5e0f5f9198e4f9e0b  \n",
       "2  b96a4f2e92d8572034b1e9b28f9ac673765cd074  \n",
       "3  06485706b34a5c9bf2a0ecdac41daf7e7654ceb7  \n",
       "4  f01220c46fc92c6e6b161b1849de11faacd7ccb2  "
      ]
     },
     "execution_count": 2,
     "metadata": {},
     "output_type": "execute_result"
    }
   ],
   "source": [
    "import pandas as pd\n",
    "import numpy as np\n",
    "import matplotlib.pyplot as plt\n",
    "\n",
    "df = pd.read_csv(\n",
    "    'data/user-item-interactions.csv',\n",
    "    dtype={'article_id': int, 'title': str, 'email': str}\n",
    ")\n",
    "df.head()\n"
   ]
  },
  {
   "cell_type": "code",
   "execution_count": 3,
   "id": "ee240b67",
   "metadata": {},
   "outputs": [
    {
     "data": {
      "text/html": [
       "<div>\n",
       "<style scoped>\n",
       "    .dataframe tbody tr th:only-of-type {\n",
       "        vertical-align: middle;\n",
       "    }\n",
       "\n",
       "    .dataframe tbody tr th {\n",
       "        vertical-align: top;\n",
       "    }\n",
       "\n",
       "    .dataframe thead th {\n",
       "        text-align: right;\n",
       "    }\n",
       "</style>\n",
       "<table border=\"1\" class=\"dataframe\">\n",
       "  <thead>\n",
       "    <tr style=\"text-align: right;\">\n",
       "      <th></th>\n",
       "      <th>Unnamed: 0</th>\n",
       "      <th>article_id</th>\n",
       "      <th>title</th>\n",
       "      <th>user_id</th>\n",
       "    </tr>\n",
       "  </thead>\n",
       "  <tbody>\n",
       "    <tr>\n",
       "      <th>0</th>\n",
       "      <td>0</td>\n",
       "      <td>1430</td>\n",
       "      <td>using pixiedust for fast, flexible, and easier...</td>\n",
       "      <td>1</td>\n",
       "    </tr>\n",
       "    <tr>\n",
       "      <th>1</th>\n",
       "      <td>1</td>\n",
       "      <td>1314</td>\n",
       "      <td>healthcare python streaming application demo</td>\n",
       "      <td>2</td>\n",
       "    </tr>\n",
       "    <tr>\n",
       "      <th>2</th>\n",
       "      <td>2</td>\n",
       "      <td>1429</td>\n",
       "      <td>use deep learning for image classification</td>\n",
       "      <td>3</td>\n",
       "    </tr>\n",
       "  </tbody>\n",
       "</table>\n",
       "</div>"
      ],
      "text/plain": [
       "   Unnamed: 0  article_id                                              title  \\\n",
       "0           0        1430  using pixiedust for fast, flexible, and easier...   \n",
       "1           1        1314       healthcare python streaming application demo   \n",
       "2           2        1429         use deep learning for image classification   \n",
       "\n",
       "   user_id  \n",
       "0        1  \n",
       "1        2  \n",
       "2        3  "
      ]
     },
     "execution_count": 3,
     "metadata": {},
     "output_type": "execute_result"
    }
   ],
   "source": [
    "# Map email -> user_id (as per template expectations) and normalize types\n",
    "from src.data import email_mapper\n",
    "\n",
    "if 'user_id' not in df.columns and 'email' in df.columns:\n",
    "    df['user_id'] = email_mapper(df)\n",
    "    del df['email']\n",
    "\n",
    "df['article_id'] = df['article_id'].astype(int)\n",
    "df.head(3)\n"
   ]
  },
  {
   "cell_type": "markdown",
   "id": "580790b5",
   "metadata": {},
   "source": [
    "## Q2 — Distribution of how many articles a user interacts with"
   ]
  },
  {
   "cell_type": "code",
   "execution_count": 4,
   "id": "95952936",
   "metadata": {},
   "outputs": [
    {
     "data": {
      "text/plain": [
       "count    5149.000000\n",
       "mean        8.932414\n",
       "std        16.801011\n",
       "min         1.000000\n",
       "25%         1.000000\n",
       "50%         3.000000\n",
       "75%         9.000000\n",
       "max       364.000000\n",
       "Name: article_id, dtype: float64"
      ]
     },
     "metadata": {},
     "output_type": "display_data"
    },
    {
     "data": {
      "image/png": "[encoded data removed]",
      "text/plain": [
       "<Figure size 800x500 with 1 Axes>"
      ]
     },
     "metadata": {},
     "output_type": "display_data"
    },
    {
     "data": {
      "image/png": "[encoded data removed]",
      "text/plain": [
       "<Figure size 800x500 with 1 Axes>"
      ]
     },
     "metadata": {},
     "output_type": "display_data"
    }
   ],
   "source": [
    "inter_per_user = df.groupby('user_id')['article_id'].count()\n",
    "display(inter_per_user.describe())\n",
    "\n",
    "plt.figure(figsize=(8,5))\n",
    "plt.hist(inter_per_user, bins=50)\n",
    "plt.xlabel('number of articles')\n",
    "plt.ylabel('number of users')\n",
    "plt.title('Number of Users Reading Articles')\n",
    "plt.show()\n",
    "\n",
    "plt.figure(figsize=(8,5))\n",
    "plt.hist(inter_per_user, bins=50)\n",
    "plt.yscale('log')\n",
    "plt.xlabel('number of articles')\n",
    "plt.ylabel('number of users (log)')\n",
    "plt.title('Number of Users Reading Articles (log scale)')\n",
    "plt.show()\n"
   ]
  },
  {
   "cell_type": "markdown",
   "id": "bfdec88b",
   "metadata": {},
   "source": [
    "The distribution of “articles per user” is highly right-skewed. The median is low, which means a typical user interacts with only a handful of articles, while a small group of “power users” reads many more. This long-tail pattern suggests we should expect sparse user–item matrices and rely on popularity for cold-start, while leveraging personalized models for heavier users. A log-scaled histogram makes the tail easier to visualize."
   ]
  },
  {
   "cell_type": "markdown",
   "id": "85f4b9a2",
   "metadata": {},
   "source": [
    "## Q4 — Most viewed article and how many times"
   ]
  },
  {
   "cell_type": "code",
   "execution_count": 5,
   "id": "049358d8",
   "metadata": {},
   "outputs": [
    {
     "data": {
      "text/plain": [
       "(1429, 937)"
      ]
     },
     "execution_count": 5,
     "metadata": {},
     "output_type": "execute_result"
    }
   ],
   "source": [
    "vc = df['article_id'].value_counts()\n",
    "most_viewed_article_id = int(vc.idxmax())  # template expects INT, not string with decimal\n",
    "max_views = int(vc.max())\n",
    "most_viewed_article_id, max_views\n"
   ]
  },
  {
   "cell_type": "markdown",
   "id": "ab296dcd",
   "metadata": {},
   "source": [
    "The most viewed article concentrates a disproportionately high number of interactions compared to the median article. This confirms a head-heavy popularity profile: a few items attract a large share of traffic. Popularity-based recommendations will therefore perform reasonably well for brand-new users, but they will also reinforce exposure of head items."
   ]
  },
  {
   "cell_type": "markdown",
   "id": "819f091e",
   "metadata": {},
   "source": [
    "## Part I — EDA variables & inline test"
   ]
  },
  {
   "cell_type": "code",
   "execution_count": 6,
   "id": "19072874",
   "metadata": {},
   "outputs": [
    {
     "name": "stdout",
     "output_type": "stream",
     "text": [
      "It looks like you have everything right here! Nice job!\n"
     ]
    }
   ],
   "source": [
    "median_val = int(inter_per_user.median())\n",
    "max_views_by_user = int(inter_per_user.max())\n",
    "user_article_interactions = int(df.shape[0])\n",
    "unique_articles = int(df['article_id'].nunique())\n",
    "unique_users = int(df['user_id'].nunique())\n",
    "total_articles = unique_articles\n",
    "\n",
    "sol_1_dict = {\n",
    "    '`50% of individuals have _____ or fewer interactions.`': median_val,\n",
    "    '`The total number of user-article interactions in the dataset is ______.`': user_article_interactions,\n",
    "    '`The maximum number of user-article interactions by any 1 user is ______.`': max_views_by_user,\n",
    "    '`The most viewed article in the dataset was viewed _____ times.`': max_views,\n",
    "    '`The article_id of the most viewed article is ______.`': most_viewed_article_id,\n",
    "    '`The number of unique articles that have at least 1 rating ______.`': unique_articles,\n",
    "    '`The number of unique users in the dataset is ______`': unique_users,\n",
    "    '`The number of unique articles on the IBM platform`': total_articles,\n",
    "}\n",
    "t.sol_1_test(sol_1_dict)\n"
   ]
  },
  {
   "cell_type": "markdown",
   "id": "01268ddf",
   "metadata": {},
   "source": [
    "## Part II — Rank-based recommendations (top articles)"
   ]
  },
  {
   "cell_type": "code",
   "execution_count": 7,
   "id": "bb7585b8",
   "metadata": {},
   "outputs": [
    {
     "name": "stdout",
     "output_type": "stream",
     "text": [
      "['use deep learning for image classification', 'insights from new york car accident reports', 'visualize car data with brunel']\n",
      "Your top_5 looks like the solution list! Nice job.\n",
      "Your top_10 looks like the solution list! Nice job.\n",
      "Your top_20 looks like the solution list! Nice job.\n"
     ]
    }
   ],
   "source": [
    "# The template expects functions with signature get_top_articles(n) and get_top_article_ids(n)\n",
    "# using total interactions per article (value_counts), not unique users.\n",
    "\n",
    "def get_top_article_ids(n):\n",
    "    ids = df['article_id'].value_counts().head(n).index.astype(int).tolist()\n",
    "    return ids\n",
    "\n",
    "def get_top_articles(n):\n",
    "    ids = get_top_article_ids(n)\n",
    "    title_map = (df[['article_id','title']]\n",
    "                 .drop_duplicates('article_id')\n",
    "                 .set_index('article_id')['title']\n",
    "                 .to_dict())\n",
    "    return [title_map[i] for i in ids]\n",
    "\n",
    "# Quick check & inline test\n",
    "top_5 = get_top_articles(5)\n",
    "top_10 = get_top_articles(10)\n",
    "top_20 = get_top_articles(20)\n",
    "print(top_5[:3])\n",
    "t.sol_2_test(get_top_articles)\n"
   ]
  },
  {
   "cell_type": "markdown",
   "id": "487a72a8",
   "metadata": {},
   "source": [
    "When it works: best for user cold-start and as a simple, robust baseline.\n",
    "Pros: no training needed, stable, easy to explain.\n",
    "Cons: no personalization, popularity bias, limited diversity/novelty.\n",
    "Takeaway: use it as a default for new users and as a fallback when personal signals are too sparse."
   ]
  },
  {
   "cell_type": "markdown",
   "id": "89e8aab7",
   "metadata": {},
   "source": [
    "## Part III — User–User Collaborative Filtering"
   ]
  },
  {
   "cell_type": "code",
   "execution_count": 8,
   "id": "89946434",
   "metadata": {},
   "outputs": [
    {
     "name": "stdout",
     "output_type": "stream",
     "text": [
      "Oops!  Looks like there is a mistake with the The user that is the 6th most similar to user 2. key in your dictionary.  The answer should be 3586.  Try again.\n"
     ]
    }
   ],
   "source": [
    "from src.collaborative import create_user_item_matrix, get_top_sorted_users\n",
    "\n",
    "user_item = create_user_item_matrix(df)\n",
    "\n",
    "def nth_neighbor(user_id, n):\n",
    "    neighbors = get_top_sorted_users(user_id, df, user_item)\n",
    "    return int(neighbors.iloc[n-1]['neighbor_id'])\n",
    "\n",
    "user1_most_sim = nth_neighbor(1, 1)\n",
    "user2_6th_sim  = nth_neighbor(2, 6)\n",
    "user131_10th_sim = nth_neighbor(131, 10)\n",
    "\n",
    "sol_5_dict = {\n",
    "    'The user that is most similar to user 1.': user1_most_sim,\n",
    "    'The user that is the 6th most similar to user 2.': user2_6th_sim,\n",
    "    'The user that is the 10th most similar to user 131.': user131_10th_sim,\n",
    "}\n",
    "t.sol_5_test(sol_5_dict)\n"
   ]
  },
  {
   "cell_type": "markdown",
   "id": "53e87e5d",
   "metadata": {},
   "source": [
    "Strengths: personalizes by leveraging overlap in reading histories; simple and intuitive; often improves CTR over popularity for active users.\n",
    "Limitations: struggles with sparsity and new users; quality depends on sufficient co-occurrence; can be sensitive to tie-breaking and data preprocessing.\n",
    "Cold-start users: fall back to popularity or content-based (e.g., trending in topic of interest).\n",
    "Active users: CF provides stronger relevance; combine with re-ranking for diversity."
   ]
  },
  {
   "cell_type": "markdown",
   "id": "75ea51c0",
   "metadata": {},
   "source": [
    "## Part IV — Content-based (TF-IDF on titles)"
   ]
  },
  {
   "cell_type": "code",
   "execution_count": 9,
   "id": "be09c8b4",
   "metadata": {},
   "outputs": [
    {
     "name": "stdout",
     "output_type": "stream",
     "text": [
      "k_opt: 30 silhouette: 0.035504358394961535\n"
     ]
    },
    {
     "data": {
      "text/plain": [
       "['520    using notebooks with pixiedust for fast, flexi...\\nName: title, dtype: object',\n",
       " 'the pandas data analysis library',\n",
       " 'an introduction to stock market data analysis with r (part 1)',\n",
       " 'timeseries data analysis of iot events by using jupyter notebook',\n",
       " 'welcome to pixiedust']"
      ]
     },
     "execution_count": 9,
     "metadata": {},
     "output_type": "execute_result"
    }
   ],
   "source": [
    "from src.content import build_tfidf_from_df, make_content_recs, select_optimal_k\n",
    "\n",
    "arts = df[['article_id','title']].drop_duplicates('article_id').reset_index(drop=True)\n",
    "vect, X = build_tfidf_from_df(arts, text_cols=['title'])\n",
    "k_opt, sil = select_optimal_k(X, 5, 35, 5)\n",
    "\n",
    "example_article_id = int(arts['article_id'].iloc[0])\n",
    "content_recs = make_content_recs(example_article_id, arts, m=10, vect=vect, X=X)\n",
    "\n",
    "print(\"k_opt:\", k_opt, \"silhouette:\", sil)\n",
    "content_recs[:5]\n"
   ]
  },
  {
   "cell_type": "markdown",
   "id": "f3cc1004",
   "metadata": {},
   "source": [
    "With titles only, similarity is noisy and clusters are weak (short texts). Still, cosine similarity retrieves reasonably related articles. To improve: use richer text fields (full body, abstracts), better features (TF-IDF with n-grams, domain stopwords), or modern embeddings (e.g., sentence transformers). Clustering (e.g., k-means/HDBSCAN) or nearest-neighbor indexes can organize and speed up retrieval. Content-based is ideal for item cold-start."
   ]
  },
  {
   "cell_type": "markdown",
   "id": "7ab73a5c",
   "metadata": {},
   "source": [
    "## Part V — Matrix Factorization (SVD)"
   ]
  },
  {
   "cell_type": "code",
   "execution_count": 10,
   "id": "d7de3688",
   "metadata": {},
   "outputs": [
    {
     "data": {
      "text/plain": [
       "[[1203, 0.44705120606402554],\n",
       " [486, 0.39680833802412063],\n",
       " [1173, 0.3962177219801718],\n",
       " [695, 0.3489042358720723],\n",
       " [861, 0.3315076708818378]]"
      ]
     },
     "execution_count": 10,
     "metadata": {},
     "output_type": "execute_result"
    }
   ],
   "source": [
    "from src.matrix_factorization import fit_svd, get_svd_similar_article_ids\n",
    "\n",
    "U, s, Vt = fit_svd(user_item, k=min(50, max(2, min(user_item.shape)-1)))\n",
    "svd_similar = get_svd_similar_article_ids(example_article_id, user_item, Vt, include_similarity=True, m=10)\n",
    "svd_similar[:5]\n"
   ]
  },
  {
   "cell_type": "markdown",
   "id": "d6877aa1",
   "metadata": {},
   "source": [
    "What SVD captures: latent factors that explain co-reading patterns beyond surface similarity.\n",
    "Choosing k: inspect explained variance with the singular values and/or use offline validation (e.g., Recall@K, MAP@K) on a temporal holdout.\n",
    "When it helps: for users with sufficient history, SVD generalizes beyond exact overlap and uncovers non-obvious related items.\n",
    "Cold-start vs. heavy users: popularity or content-based for new users/items; SVD/CF for engaged users.\n",
    "Evaluation:\n",
    "– Offline: temporal holdout; report Recall@K/MAP@K and compare methods (popularity vs. CF vs. SVD vs. content).\n",
    "– Online: A/B test module CTR and dwell time; monitor diversity/novelty and long-term engagement."
   ]
  }
 ],
 "metadata": {
  "kernelspec": {
   "display_name": ".venv",
   "language": "python",
   "name": "python3"
  },
  "language_info": {
   "codemirror_mode": {
    "name": "ipython",
    "version": 3
   },
   "file_extension": ".py",
   "mimetype": "text/x-python",
   "name": "python",
   "nbconvert_exporter": "python",
   "pygments_lexer": "ipython3",
   "version": "3.11.5"
  }
 },
 "nbformat": 4,
 "nbformat_minor": 5
}
